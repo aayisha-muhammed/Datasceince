{
  "nbformat": 4,
  "nbformat_minor": 0,
  "metadata": {
    "colab": {
      "provenance": [],
      "authorship_tag": "ABX9TyP/Sv5nehWZcky6iD2Mnbmp",
      "include_colab_link": true
    },
    "kernelspec": {
      "name": "python3",
      "display_name": "Python 3"
    },
    "language_info": {
      "name": "python"
    }
  },
  "cells": [
    {
      "cell_type": "markdown",
      "metadata": {
        "id": "view-in-github",
        "colab_type": "text"
      },
      "source": [
        "<a href=\"https://colab.research.google.com/github/aayisha-muhammed/Datasceince/blob/main/basic_python_task.ipynb\" target=\"_parent\"><img src=\"https://colab.research.google.com/assets/colab-badge.svg\" alt=\"Open In Colab\"/></a>"
      ]
    },
    {
      "cell_type": "markdown",
      "source": [
        "1. Given the string \"Hello, World!\", extract and print the\n",
        "substring \"Hello\".\n",
        "\n",
        "\n"
      ],
      "metadata": {
        "id": "5A2Zp9SRHnPp"
      }
    },
    {
      "cell_type": "code",
      "execution_count": 1,
      "metadata": {
        "colab": {
          "base_uri": "https://localhost:8080/"
        },
        "id": "B2zwQbfCG4VP",
        "outputId": "131e31d9-6fb3-4cf9-dc8b-c19ea17241ef"
      },
      "outputs": [
        {
          "output_type": "stream",
          "name": "stdout",
          "text": [
            "Hello\n"
          ]
        }
      ],
      "source": [
        "string = \"Hello, World!\"\n",
        "substring = string[:5]\n",
        "print(substring)\n",
        "\n"
      ]
    },
    {
      "cell_type": "markdown",
      "source": [
        "2. Given the string \"Python is fun\", extract and print the\n",
        "substring \"is\"."
      ],
      "metadata": {
        "id": "kFT7hFw8H3T0"
      }
    },
    {
      "cell_type": "code",
      "source": [
        "string = \"Python is fun\"\n",
        "substring = string[7:9]\n",
        "print(substring)\n",
        "\n"
      ],
      "metadata": {
        "colab": {
          "base_uri": "https://localhost:8080/"
        },
        "id": "how247etG9QK",
        "outputId": "f027b40c-1dc5-4d0f-af8c-1efefa5c6a9c"
      },
      "execution_count": 2,
      "outputs": [
        {
          "output_type": "stream",
          "name": "stdout",
          "text": [
            "is\n"
          ]
        }
      ]
    },
    {
      "cell_type": "markdown",
      "source": [
        "3. Given the string \"Programming\", extract and print the\n",
        "substring \"gram\" using slicing indices."
      ],
      "metadata": {
        "id": "spTWdbulH8d0"
      }
    },
    {
      "cell_type": "code",
      "source": [
        "string = \"Programming\"\n",
        "substring = string[3:7]\n",
        "print(substring)\n",
        "\n"
      ],
      "metadata": {
        "colab": {
          "base_uri": "https://localhost:8080/"
        },
        "id": "vEIXHIbdHEw5",
        "outputId": "f5cd34f6-b24f-441c-ef60-c06338278f0b"
      },
      "execution_count": 3,
      "outputs": [
        {
          "output_type": "stream",
          "name": "stdout",
          "text": [
            "gram\n"
          ]
        }
      ]
    },
    {
      "cell_type": "markdown",
      "source": [
        "4. Given the string \"abcdefgh\", use slicing to print only the\n",
        "characters at even indices."
      ],
      "metadata": {
        "id": "mT2SJ9SrIGgt"
      }
    },
    {
      "cell_type": "code",
      "source": [
        "string = \"abcdefgh\"\n",
        "substring = string[::2]\n",
        "print(substring)\n",
        "\n"
      ],
      "metadata": {
        "colab": {
          "base_uri": "https://localhost:8080/"
        },
        "id": "Z5Ju2Dk8HSHw",
        "outputId": "0a782cc7-520e-4b31-855d-6f9c77cd523a"
      },
      "execution_count": 4,
      "outputs": [
        {
          "output_type": "stream",
          "name": "stdout",
          "text": [
            "aceg\n"
          ]
        }
      ]
    },
    {
      "cell_type": "markdown",
      "source": [
        "5. Given the string \"abcdefg\", use negative indices to extract\n",
        "and print the substring \"efg\""
      ],
      "metadata": {
        "id": "eYb4eSUOILla"
      }
    },
    {
      "cell_type": "code",
      "source": [
        "string = \"abcdefg\"\n",
        "substring = string[-3:]\n",
        "print(substring)\n",
        "\n"
      ],
      "metadata": {
        "colab": {
          "base_uri": "https://localhost:8080/"
        },
        "id": "r4oKlz4DHeQA",
        "outputId": "8e037b6f-23de-46db-ec79-8749bcf5a98d"
      },
      "execution_count": 5,
      "outputs": [
        {
          "output_type": "stream",
          "name": "stdout",
          "text": [
            "efg\n"
          ]
        }
      ]
    },
    {
      "cell_type": "markdown",
      "source": [
        "6. Given the string \"Data Science\", use negative indices to\n",
        "extract and print the last three characters."
      ],
      "metadata": {
        "id": "sV-muYDZITv4"
      }
    },
    {
      "cell_type": "code",
      "source": [
        "string = \"Data Science\"\n",
        "substring = string[-3:]\n",
        "print(substring)\n",
        "\n"
      ],
      "metadata": {
        "colab": {
          "base_uri": "https://localhost:8080/"
        },
        "id": "BEwUa4M1Hftk",
        "outputId": "a78ad906-b4cc-4052-bb8c-7cb4d1de1385"
      },
      "execution_count": 6,
      "outputs": [
        {
          "output_type": "stream",
          "name": "stdout",
          "text": [
            "nce\n"
          ]
        }
      ]
    },
    {
      "cell_type": "markdown",
      "source": [
        "7. Given the string \"abcdefghij\", use slicing with a step to\n",
        "print every second character."
      ],
      "metadata": {
        "id": "skXN0y_BIZF6"
      }
    },
    {
      "cell_type": "code",
      "source": [
        "string = \"abcdefghij\"\n",
        "substring = string[::2]\n",
        "print(substring)\n",
        "\n"
      ],
      "metadata": {
        "colab": {
          "base_uri": "https://localhost:8080/"
        },
        "id": "jnObCFaQHkiO",
        "outputId": "a135f795-544f-41a4-f1dc-2e3bc3f74d93"
      },
      "execution_count": 7,
      "outputs": [
        {
          "output_type": "stream",
          "name": "stdout",
          "text": [
            "acegi\n"
          ]
        }
      ]
    },
    {
      "cell_type": "markdown",
      "source": [
        "8. Given the string \"1234567890\", use slicing with a step to\n",
        "print the odd digits."
      ],
      "metadata": {
        "id": "gc12yHhsImUq"
      }
    },
    {
      "cell_type": "code",
      "source": [
        "string = \"1234567890\"\n",
        "substring = string[::2]\n",
        "print(substring)\n"
      ],
      "metadata": {
        "colab": {
          "base_uri": "https://localhost:8080/"
        },
        "id": "N-slvYg8IguI",
        "outputId": "ec6881fa-6635-4c79-ff57-fe5dbab31f94"
      },
      "execution_count": 8,
      "outputs": [
        {
          "output_type": "stream",
          "name": "stdout",
          "text": [
            "13579\n"
          ]
        }
      ]
    },
    {
      "cell_type": "markdown",
      "source": [
        "9. Given the string \"Hello\", use slicing to print the string in\n",
        "reverse order."
      ],
      "metadata": {
        "id": "bkvgta2AIuZ6"
      }
    },
    {
      "cell_type": "code",
      "source": [
        "string = \"Hello\"\n",
        "reversed_string = string[::-1]\n",
        "print(reversed_string)\n",
        "\n"
      ],
      "metadata": {
        "colab": {
          "base_uri": "https://localhost:8080/"
        },
        "id": "HMIAtN0aIqgG",
        "outputId": "dda6b8a3-4798-4c00-db6c-00b84d777193"
      },
      "execution_count": 9,
      "outputs": [
        {
          "output_type": "stream",
          "name": "stdout",
          "text": [
            "olleH\n"
          ]
        }
      ]
    },
    {
      "cell_type": "markdown",
      "source": [
        "10. Given the string \"abcdefghijk\", extract and print the\n",
        "substring \"acegik\" using slicing."
      ],
      "metadata": {
        "id": "LPUUqEnGI0pD"
      }
    },
    {
      "cell_type": "code",
      "source": [
        "string = \"abcdefghijk\"\n",
        "substring = string[::2]\n",
        "print(substring)"
      ],
      "metadata": {
        "colab": {
          "base_uri": "https://localhost:8080/"
        },
        "id": "0QLMnqQEIzAP",
        "outputId": "d20486c2-6a0a-42a5-88ac-d339a37901b3"
      },
      "execution_count": 10,
      "outputs": [
        {
          "output_type": "stream",
          "name": "stdout",
          "text": [
            "acegik\n"
          ]
        }
      ]
    },
    {
      "cell_type": "markdown",
      "source": [
        "11. Write a program to find sum of all elements in a list of\n",
        "integers."
      ],
      "metadata": {
        "id": "-nlirdXCJDMi"
      }
    },
    {
      "cell_type": "code",
      "source": [
        "numbers = [1, 2, 3, 4, 5]\n",
        "total_sum = sum(numbers)\n",
        "print(total_sum)"
      ],
      "metadata": {
        "colab": {
          "base_uri": "https://localhost:8080/"
        },
        "id": "zpL-d8weI_Vi",
        "outputId": "dcbe0b12-e2f6-44e8-b820-63739e46e208"
      },
      "execution_count": 11,
      "outputs": [
        {
          "output_type": "stream",
          "name": "stdout",
          "text": [
            "15\n"
          ]
        }
      ]
    },
    {
      "cell_type": "markdown",
      "source": [
        "12. Input a sentence as a string.\n",
        "a) Print its length\n",
        "b) Print the first half of string"
      ],
      "metadata": {
        "id": "M1-FrcTPJrBt"
      }
    },
    {
      "cell_type": "code",
      "source": [
        "sentence = input(\"Enter a sentence: \")\n",
        "\n",
        "length = len(sentence)\n",
        "print(f\"Length of the sentence: {length}\")\n",
        "\n",
        "first_half = sentence[:length // 2]\n",
        "print(f\"First half of the sentence: {first_half}\")\n"
      ],
      "metadata": {
        "colab": {
          "base_uri": "https://localhost:8080/"
        },
        "id": "6CGJHLvNJH6D",
        "outputId": "93c341f2-e574-4d5b-acce-011ecf053568"
      },
      "execution_count": 12,
      "outputs": [
        {
          "output_type": "stream",
          "name": "stdout",
          "text": [
            "Enter a sentence: give it to me\n",
            "Length of the sentence: 13\n",
            "First half of the sentence: give i\n"
          ]
        }
      ]
    },
    {
      "cell_type": "markdown",
      "source": [
        "13. Write a program to enter a tuple of integers as\n",
        "(78,45,32,19,82,77,40,39). Change the third value in the tuple to\n",
        "100"
      ],
      "metadata": {
        "id": "SFzbQ1nyJ8f5"
      }
    },
    {
      "cell_type": "code",
      "source": [
        "tupleA = (78, 45, 32, 19, 82, 77, 40, 39)\n",
        "\n",
        "listA = list(tupleA)\n",
        "\n",
        "listA[2] = 100\n",
        "\n",
        "tupleA = tuple(listA)\n",
        "\n",
        "print(f\"Modified tuple: {tupleA}\")\n",
        "# Output: (78, 45, 100, 19, 82, 77, 40, 39)\n"
      ],
      "metadata": {
        "colab": {
          "base_uri": "https://localhost:8080/"
        },
        "id": "f3VZmzu5JxMT",
        "outputId": "ab4be7fd-cbe5-4714-9f38-f00abac5688b"
      },
      "execution_count": 13,
      "outputs": [
        {
          "output_type": "stream",
          "name": "stdout",
          "text": [
            "Modified tuple: (78, 45, 100, 19, 82, 77, 40, 39)\n"
          ]
        }
      ]
    },
    {
      "cell_type": "markdown",
      "source": [
        "14. Consider a list\n",
        "listA=[19,32,10,55,31,32,94,29,10,65,77,40,40]\n",
        "(a) Delete the first occurrence of 32\n",
        "(b) Delete all occurrences of 40\n",
        "(c) Delete the value at index=5\n",
        "(d) Modify the value at index=9 as 300\n",
        "(e) Add 200 at index=2\n",
        "(f) Print the final list with its length, maximum value\n",
        "and sum of all elements"
      ],
      "metadata": {
        "id": "7PlmqehGKK-s"
      }
    },
    {
      "cell_type": "code",
      "source": [
        "listA = [19, 32, 10, 55, 31, 32, 94, 29, 10, 65, 77, 40, 40]\n",
        "\n",
        "# (a) Delete the first occurrence of 32\n",
        "listA.remove(32)\n",
        "\n",
        "# (b) Delete all occurrences of 40\n",
        "listA = [x for x in listA if x != 40]\n",
        "\n",
        "# (c) Delete the value at index=5\n",
        "del listA[5]\n",
        "\n",
        "# (d) Modify the value at index=9 as 300\n",
        "if len(listA) > 9:\n",
        "    listA[9] = 300\n",
        "\n",
        "# (e) Add 200 at index=2\n",
        "listA.insert(2, 200)\n",
        "\n",
        "# (f) Print the final list with its length, maximum value, and sum of all elements\n",
        "print(f\"Final list: {listA}\")\n",
        "print(f\"Length: {len(listA)}\")\n",
        "print(f\"Maximum value: {max(listA)}\")\n",
        "print(f\"Sum of elements: {sum(listA)}\")\n"
      ],
      "metadata": {
        "colab": {
          "base_uri": "https://localhost:8080/"
        },
        "id": "21dC0Io1KIPg",
        "outputId": "74ea3f7b-8bb9-48dc-9d6a-28bc2bb2b893"
      },
      "execution_count": 15,
      "outputs": [
        {
          "output_type": "stream",
          "name": "stdout",
          "text": [
            "Final list: [19, 10, 200, 55, 31, 32, 29, 10, 65, 77]\n",
            "Length: 10\n",
            "Maximum value: 200\n",
            "Sum of elements: 528\n"
          ]
        }
      ]
    },
    {
      "cell_type": "markdown",
      "source": [
        "15. Consider a string ”The day has been long”.\n",
        "(a) Delete the value at index =4\n",
        "(b) Print the string 4 times in a single line with space\n",
        "between each repetition\n",
        "(c) Print the string 3 times in a new line each time\n",
        "(d) Modify the string at index 7 as ’A’\n",
        "(e) Print the string from index 4 to 15\n",
        "(f) Print the final string with its length"
      ],
      "metadata": {
        "id": "_lptOuc-Kon0"
      }
    },
    {
      "cell_type": "code",
      "source": [
        "string = \"The day has been long\"\n",
        "\n",
        "# (a) Delete the value at index=4\n",
        "modified_string = string[:4] + string[5:]\n",
        "\n",
        "# (b) Print the string 4 times in a single line with space between each repetition\n",
        "print((modified_string + \" \") * 4)\n",
        "\n",
        "# (c) Print the string 3 times, each time on a new line\n",
        "for _ in range(3):\n",
        "    print(modified_string)\n",
        "\n",
        "# (d) Modify the string at index 7 to 'A'\n",
        "modified_string = modified_string[:7] + 'A' + modified_string[8:]\n",
        "\n",
        "# (e) Print the string from index 4 to 15\n",
        "substring = modified_string[4:16]\n",
        "print(f\"Substring (index 4 to 15): {substring}\")\n",
        "\n",
        "# (f) Print the final string with its length\n",
        "print(f\"Final string: {modified_string}\")\n",
        "print(f\"Length of final string: {len(modified_string)}\")\n"
      ],
      "metadata": {
        "colab": {
          "base_uri": "https://localhost:8080/"
        },
        "id": "yweF7XdvKVMf",
        "outputId": "7687960e-523f-4c95-fd3b-9981741fac76"
      },
      "execution_count": 16,
      "outputs": [
        {
          "output_type": "stream",
          "name": "stdout",
          "text": [
            "The ay has been long The ay has been long The ay has been long The ay has been long \n",
            "The ay has been long\n",
            "The ay has been long\n",
            "The ay has been long\n",
            "Substring (index 4 to 15): ay Aas been \n",
            "Final string: The ay Aas been long\n",
            "Length of final string: 20\n"
          ]
        }
      ]
    },
    {
      "cell_type": "code",
      "source": [],
      "metadata": {
        "id": "VKLHCvBYKx2h"
      },
      "execution_count": null,
      "outputs": []
    }
  ]
}