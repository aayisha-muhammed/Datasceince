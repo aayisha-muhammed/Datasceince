{
  "nbformat": 4,
  "nbformat_minor": 0,
  "metadata": {
    "colab": {
      "provenance": [],
      "include_colab_link": true
    },
    "kernelspec": {
      "name": "python3",
      "display_name": "Python 3"
    },
    "language_info": {
      "name": "python"
    }
  },
  "cells": [
    {
      "cell_type": "markdown",
      "metadata": {
        "id": "view-in-github",
        "colab_type": "text"
      },
      "source": [
        "<a href=\"https://colab.research.google.com/github/aayisha-muhammed/Datasceince/blob/main/intermediate2.ipynb\" target=\"_parent\"><img src=\"https://colab.research.google.com/assets/colab-badge.svg\" alt=\"Open In Colab\"/></a>"
      ]
    },
    {
      "cell_type": "code",
      "execution_count": 1,
      "metadata": {
        "id": "pWX76N-8idFp"
      },
      "outputs": [],
      "source": [
        "import pandas as pd\n",
        "from sklearn.model_selection import train_test_split, GridSearchCV\n",
        "from sklearn.preprocessing import LabelEncoder, StandardScaler\n",
        "from sklearn.impute import SimpleImputer\n",
        "from sklearn.linear_model import LogisticRegression\n",
        "from sklearn.metrics import accuracy_score, confusion_matrix\n",
        "from sklearn.ensemble import RandomForestClassifier\n",
        "from sklearn.pipeline import Pipeline\n",
        "from sklearn.feature_selection import SelectKBest, f_classif"
      ]
    },
    {
      "cell_type": "code",
      "source": [
        "\n",
        "train_data = pd.read_csv('/content/train_ctrUa4K.csv')\n",
        "test_data = pd.read_csv('/content/test_lAUu6dG (1).csv')"
      ],
      "metadata": {
        "id": "dYTDS98cjZyW"
      },
      "execution_count": 3,
      "outputs": []
    },
    {
      "cell_type": "code",
      "source": [
        "\n",
        "X = train_data.drop(columns=['Loan_ID', 'Loan_Status'])\n",
        "y = train_data['Loan_Status']"
      ],
      "metadata": {
        "id": "hAD_iqd-jdTG"
      },
      "execution_count": 4,
      "outputs": []
    },
    {
      "cell_type": "code",
      "source": [
        "\n",
        "test_ids = test_data['Loan_ID']\n",
        "combined_data = pd.concat([X, test_data.drop(columns=['Loan_ID'])], axis=0)\n",
        "\n",
        "\n",
        "imputer = SimpleImputer(strategy='mean')"
      ],
      "metadata": {
        "id": "7s-Y0QF1jiQ8"
      },
      "execution_count": 5,
      "outputs": []
    },
    {
      "cell_type": "code",
      "source": [
        "\n",
        "combined_data['LoanAmount'] = imputer.fit_transform(combined_data[['LoanAmount']])\n",
        "combined_data['Loan_Amount_Term'] = imputer.fit_transform(combined_data[['Loan_Amount_Term']])\n",
        "combined_data['Credit_History'] = imputer.fit_transform(combined_data[['Credit_History']])"
      ],
      "metadata": {
        "id": "aFotsiKTjpEe"
      },
      "execution_count": 6,
      "outputs": []
    },
    {
      "cell_type": "code",
      "source": [
        "\n",
        "categorical_columns = ['Gender', 'Married', 'Dependents', 'Self_Employed', 'Property_Area', 'Education']\n",
        "combined_data[categorical_columns] = combined_data[categorical_columns].fillna(combined_data[categorical_columns].mode().iloc[0])"
      ],
      "metadata": {
        "id": "eEFDIQEljr2j"
      },
      "execution_count": 7,
      "outputs": []
    },
    {
      "cell_type": "code",
      "source": [
        "\n",
        "encoder = LabelEncoder()\n",
        "for column in categorical_columns:\n",
        "  combined_data[column] = encoder.fit_transform(combined_data[column])"
      ],
      "metadata": {
        "id": "6vUSHQ4GjuQi"
      },
      "execution_count": 8,
      "outputs": []
    },
    {
      "cell_type": "code",
      "source": [
        "\n",
        "train_processed = combined_data[:len(train_data)]\n",
        "test_processed = combined_data[len(train_data):]"
      ],
      "metadata": {
        "id": "bKubpGJJj9Gk"
      },
      "execution_count": 9,
      "outputs": []
    },
    {
      "cell_type": "code",
      "source": [
        "\n",
        "scaler = StandardScaler()\n",
        "numerical_columns = ['ApplicantIncome', 'CoapplicantIncome', 'LoanAmount', 'Loan_Amount_Term']\n",
        "train_processed[numerical_columns] = scaler.fit_transform(train_processed[numerical_columns])\n",
        "test_processed[numerical_columns] = scaler.transform(test_processed[numerical_columns])\n",
        "\n",
        "y = y.map({'Y': 1, 'N': 0})"
      ],
      "metadata": {
        "colab": {
          "base_uri": "https://localhost:8080/"
        },
        "id": "RN67ZWsiivrd",
        "outputId": "cbae3ffd-0dd2-403b-ff2e-e1fcd1495e2e"
      },
      "execution_count": 10,
      "outputs": [
        {
          "output_type": "stream",
          "name": "stderr",
          "text": [
            "<ipython-input-10-b87226b1b28f>:3: SettingWithCopyWarning: \n",
            "A value is trying to be set on a copy of a slice from a DataFrame.\n",
            "Try using .loc[row_indexer,col_indexer] = value instead\n",
            "\n",
            "See the caveats in the documentation: https://pandas.pydata.org/pandas-docs/stable/user_guide/indexing.html#returning-a-view-versus-a-copy\n",
            "  train_processed[numerical_columns] = scaler.fit_transform(train_processed[numerical_columns])\n",
            "<ipython-input-10-b87226b1b28f>:4: SettingWithCopyWarning: \n",
            "A value is trying to be set on a copy of a slice from a DataFrame.\n",
            "Try using .loc[row_indexer,col_indexer] = value instead\n",
            "\n",
            "See the caveats in the documentation: https://pandas.pydata.org/pandas-docs/stable/user_guide/indexing.html#returning-a-view-versus-a-copy\n",
            "  test_processed[numerical_columns] = scaler.transform(test_processed[numerical_columns])\n"
          ]
        }
      ]
    },
    {
      "cell_type": "code",
      "source": [
        "\n",
        "X_train, X_val, y_train, y_val = train_test_split(train_processed, y, test_size=0.2, random_state=42)"
      ],
      "metadata": {
        "id": "LYoqZCQRj5OX"
      },
      "execution_count": 11,
      "outputs": []
    },
    {
      "cell_type": "code",
      "source": [
        "\n",
        "selector = SelectKBest(f_classif, k='all')\n",
        "X_train_selected = selector.fit_transform(X_train, y_train)\n",
        "X_val_selected = selector.transform(X_val)"
      ],
      "metadata": {
        "id": "eldyeNZ7j79_"
      },
      "execution_count": 12,
      "outputs": []
    },
    {
      "cell_type": "code",
      "source": [
        "\n",
        "log_reg = LogisticRegression(max_iter=1000)\n",
        "param_grid = {\n",
        "    'C': [0.1, 1, 10, 100],\n",
        "    'penalty': ['l1', 'l2'],\n",
        "    'solver': ['liblinear']\n",
        "}\n",
        "\n",
        "grid_search = GridSearchCV(log_reg, param_grid, cv=5, scoring='accuracy')\n",
        "grid_search.fit(X_train_selected, y_train)\n",
        "\n",
        "\n",
        "best_model = grid_search.best_estimator_\n",
        "print(\"Best Parameter: \", grid_search.best_params_)"
      ],
      "metadata": {
        "colab": {
          "base_uri": "https://localhost:8080/"
        },
        "id": "buDz9BzLjVTi",
        "outputId": "839f2f44-be93-4b31-912d-b47df869cd28"
      },
      "execution_count": 13,
      "outputs": [
        {
          "output_type": "stream",
          "name": "stdout",
          "text": [
            "Best Parameters:  {'C': 0.1, 'penalty': 'l1', 'solver': 'liblinear'}\n"
          ]
        }
      ]
    },
    {
      "cell_type": "code",
      "source": [
        "\n",
        "y_val_pred = best_model.predict(X_val_selected)\n",
        "accuracy = accuracy_score(y_val, y_val_pred)\n",
        "print(f'Validation Accuracy: {accuracy * 100:.2f}%')\n",
        "\n"
      ],
      "metadata": {
        "colab": {
          "base_uri": "https://localhost:8080/"
        },
        "id": "6TUO3_dbjHw5",
        "outputId": "1ceca562-0e56-493f-e919-1a8459fd8899"
      },
      "execution_count": 14,
      "outputs": [
        {
          "output_type": "stream",
          "name": "stdout",
          "text": [
            "Validation Accuracy: 78.86%\n"
          ]
        }
      ]
    },
    {
      "cell_type": "code",
      "source": [
        "\n",
        "conf_matrix = confusion_matrix(y_val, y_val_pred)\n",
        "print(\"Confusion Matrix:\\n\", conf_matrix)"
      ],
      "metadata": {
        "colab": {
          "base_uri": "https://localhost:8080/"
        },
        "id": "84W3M33NjQ_r",
        "outputId": "8c7c68cf-742f-4503-ad3f-35e70440df74"
      },
      "execution_count": 15,
      "outputs": [
        {
          "output_type": "stream",
          "name": "stdout",
          "text": [
            "Confusion Matrix:\n",
            " [[18 25]\n",
            " [ 1 79]]\n"
          ]
        }
      ]
    },
    {
      "cell_type": "code",
      "source": [
        "\n",
        "train_processed_selected = selector.fit_transform(train_processed, y)\n",
        "test_processed_selected = selector.transform(test_processed)\n",
        "best_model.fit(train_processed_selected, y)\n",
        "\n",
        "test_predictions = best_model.predict(test_processed_selected)"
      ],
      "metadata": {
        "id": "1Jz6OrEjjKD3"
      },
      "execution_count": 16,
      "outputs": []
    },
    {
      "cell_type": "code",
      "source": [
        "\n",
        "submission = pd.DataFrame({'Loan_ID': test_ids, 'Loan_Status': ['Y' if pred == 1 else 'N' for pred in test_predictions]})\n",
        "submission.to_csv('output.csv', index=False)\n",
        "print(' output.csv')"
      ],
      "metadata": {
        "colab": {
          "base_uri": "https://localhost:8080/"
        },
        "id": "dNl5xDAijMTZ",
        "outputId": "73f81336-1dc1-4d65-be27-7ae3d37cd8f6"
      },
      "execution_count": 17,
      "outputs": [
        {
          "output_type": "stream",
          "name": "stdout",
          "text": [
            " output.csv\n"
          ]
        }
      ]
    }
  ]
}